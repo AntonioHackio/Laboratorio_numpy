{
 "cells": [
  {
   "cell_type": "markdown",
   "id": "6db588db",
   "metadata": {},
   "source": [
    "<div style=\"text-align: center;\">\n",
    "  <img src=\"https://github.com/Hack-io-Data/Imagenes/blob/main/01-LogosHackio/logo_naranja@4x.png?raw=true\" alt=\"esquema\" />\n",
    "</div>"
   ]
  },
  {
   "cell_type": "markdown",
   "id": "11308d6c",
   "metadata": {},
   "source": [
    "for i in datos\n",
    "# Laboratorio de NumPy"
   ]
  },
  {
   "cell_type": "markdown",
   "id": "a19d4596",
   "metadata": {},
   "source": [
    "#### Ejercicio 1 - Crea un array de 1D con los números del 0 al 9."
   ]
  },
  {
   "cell_type": "code",
   "execution_count": 3,
   "id": "9d4e1d42",
   "metadata": {},
   "outputs": [
    {
     "name": "stdout",
     "output_type": "stream",
     "text": [
      "<class 'numpy.ndarray'>\n"
     ]
    }
   ],
   "source": [
    "import numpy as np\n",
    "\n",
    "lista = [0, 1, 2, 3, 4, 5, 6, 7, 8, 9]\n",
    "array_unidimensional = np.array(lista)\n",
    "\n",
    "print(type(array_unidimensional))\n"
   ]
  },
  {
   "cell_type": "markdown",
   "id": "f4a41f16",
   "metadata": {},
   "source": [
    "#### Ejercicio 2 - Convierte un array 1D en un array 2D con 2 filas y 5 columnas."
   ]
  },
  {
   "cell_type": "code",
   "execution_count": 4,
   "id": "3d7cef3c",
   "metadata": {},
   "outputs": [
    {
     "name": "stdout",
     "output_type": "stream",
     "text": [
      "[[0 1 2 3 4]\n",
      " [5 6 7 8 9]]\n"
     ]
    }
   ],
   "source": [
    "array_2D = np.reshape(array_unidimensional,(2 ,5))\n",
    "\n",
    "print(array_2D)"
   ]
  },
  {
   "cell_type": "markdown",
   "id": "86bb8999",
   "metadata": {},
   "source": [
    "#### Ejercicio 3 - Encuentra los índices de los elementos con valor distinto de 0 en el siguiente array: [0, 2, 0, 3, 0, 4, 0]."
   ]
  },
  {
   "cell_type": "code",
   "execution_count": 5,
   "id": "d1fcfca4",
   "metadata": {},
   "outputs": [
    {
     "name": "stdout",
     "output_type": "stream",
     "text": [
      "(array([1, 3, 5]),)\n"
     ]
    }
   ],
   "source": [
    "ejemplo = [0, 2, 0, 3, 0, 4, 0]\n",
    "array_ejemplo = np.array(ejemplo)\n",
    "\n",
    "resultado_where = np.where(array_ejemplo > 0)\n",
    "print(resultado_where)\n",
    "        \n"
   ]
  },
  {
   "cell_type": "markdown",
   "id": "1c548419",
   "metadata": {},
   "source": [
    "#### Ejercicio 4 - Crea un array 3x3 con valores aleatorios entre 0 y 1."
   ]
  },
  {
   "cell_type": "code",
   "execution_count": 6,
   "id": "e1d4f19f",
   "metadata": {},
   "outputs": [
    {
     "name": "stdout",
     "output_type": "stream",
     "text": [
      "[[0 0 1]\n",
      " [0 0 0]\n",
      " [1 1 1]]\n"
     ]
    }
   ],
   "source": [
    "array_randint_tri = np.random.randint(0, 2, (3,3))\n",
    "print(array_randint_tri)"
   ]
  },
  {
   "cell_type": "markdown",
   "id": "aee82811",
   "metadata": {},
   "source": [
    "#### Ejercicio 5 - Crea un array de 10 números aleatorios y encuentra el valor máximo y mínimo."
   ]
  },
  {
   "cell_type": "code",
   "execution_count": 7,
   "id": "81fea76e",
   "metadata": {},
   "outputs": [
    {
     "name": "stdout",
     "output_type": "stream",
     "text": [
      "[92936 52630 38118  1417 60464 58395 73056 41255 38685 88073]\n",
      "<class 'numpy.ndarray'>\n"
     ]
    }
   ],
   "source": [
    "array_10 = np.random.randint(0, 100000, 10)\n",
    "print(array_10)\n",
    "print(type(array_10))"
   ]
  },
  {
   "cell_type": "markdown",
   "id": "6559375b",
   "metadata": {},
   "source": [
    "#### Ejercicio 6 - Crea un array de una dimensión e inviértelo. "
   ]
  },
  {
   "cell_type": "code",
   "execution_count": 8,
   "id": "31385db0",
   "metadata": {},
   "outputs": [
    {
     "name": "stdout",
     "output_type": "stream",
     "text": [
      "[1 2 3 4 5 6]\n",
      "[6 5 4 3 2 1]\n"
     ]
    }
   ],
   "source": [
    "lista_array = [1, 2, 3, 4, 5, 6]\n",
    "array_1D = np.array(lista_array)\n",
    "print(array_1D)\n",
    "\n",
    "reshaped_array_1D = np.flip(array_1D)\n",
    "print(reshaped_array_1D)"
   ]
  },
  {
   "cell_type": "markdown",
   "id": "4457f046",
   "metadata": {},
   "source": [
    "\n",
    "#### Ejercicio 6 - Genera un array tridimensional de dimensiones (2, 3, 4) con valores enteros del 1 al 24.\n",
    "\n",
    "- Selecciona el primer `15` del array.\n",
    "\n",
    "- Selecciona todos los elementos del primer array. \n",
    "\n",
    "- Selecciona la última fila del último array\n"
   ]
  },
  {
   "cell_type": "code",
   "execution_count": 9,
   "id": "3cab04c9",
   "metadata": {},
   "outputs": [
    {
     "name": "stdout",
     "output_type": "stream",
     "text": [
      "[[[22 13  6 11]\n",
      "  [11 10 12 23]\n",
      "  [ 6  4 20 13]]\n",
      "\n",
      " [[15 16 19 19]\n",
      "  [22 15 12 22]\n",
      "  [ 1 10 19  1]]]\n",
      "---------------------------------\n",
      "[1 1]\n",
      "---------------------------------\n",
      "[22 13  6 11]\n",
      "---------------------------------\n",
      "[ 1 10 19  1]\n"
     ]
    }
   ],
   "source": [
    "#Comentado para evitar que al ejecutar modifique el array creado.\n",
    "#array_tridi = np.random.randint(1, 24, (2, 3, 4))\n",
    "#Lo copio a mano tras crearlo random\n",
    "\n",
    "array_tridi = np.array([[[22, 13, 6, 11],\n",
    "                        [11, 10, 12, 23],\n",
    "                        [6, 4, 20, 13]],\n",
    "\n",
    "                        [[15, 16, 19, 19],\n",
    "                        [22, 15, 12, 22],\n",
    "                        [1, 10, 19, 1]]])\n",
    "\n",
    "print(array_tridi)\n",
    "\n",
    "print(\"---------------------------------\")\n",
    "      \n",
    "resultado_where = np.where(array_tridi == 15)\n",
    "array_primer_15 = resultado_where[0]\n",
    "print(array_primer_15)\n",
    "\n",
    "print(\"---------------------------------\")\n",
    "primer_array = array_tridi[0]\n",
    "primera_fila = primer_array[0]\n",
    "print(primera_fila)\n",
    "\n",
    "print(\"---------------------------------\")\n",
    "\n",
    "ultimo_array = array_tridi[-1]\n",
    "ultima_fila = ultimo_array[-1]\n",
    "print(ultima_fila)\n",
    "\n",
    "\n"
   ]
  },
  {
   "cell_type": "markdown",
   "id": "681b7e4e",
   "metadata": {},
   "source": [
    "\n",
    "#### Ejercicio 7 - Genera un array tridimensional de dimensiones (3, 2, 5) con valores enteros del 1 al 30.\n",
    "\n",
    "- Selecciona el subarray que contiene los dos primeros elementos de cada fila del primer array.\n",
    "\n",
    "- Selecciona el subarray que contiene todas las filas de los dos últimos arrays.\n"
   ]
  },
  {
   "cell_type": "code",
   "execution_count": 10,
   "id": "b008a9aa",
   "metadata": {},
   "outputs": [
    {
     "name": "stdout",
     "output_type": "stream",
     "text": [
      "[[[14 21  2 20 28]\n",
      "  [28 15 14 25  6]]\n",
      "\n",
      " [[10 25 26 27  8]\n",
      "  [14  7 22 28  2]]\n",
      "\n",
      " [[ 3 10 10 10 13]\n",
      "  [ 3 19  9  8 11]]]\n",
      "---------------------------------\n",
      "[[14 21]\n",
      " [28 15]]\n",
      "---------------------------------\n",
      "[[ 3 10 10 10 13]\n",
      " [ 3 19  9  8 11]]\n"
     ]
    }
   ],
   "source": [
    "#Genero con random y luego lo copio y defino a mano.\n",
    "#array_triple = np.random.randint(1, 30, (3, 2, 5))\n",
    "\n",
    "array_triple = np.array([[[14, 21, 2, 20, 28],\n",
    "                        [28, 15, 14, 25, 6]],\n",
    "\n",
    "                        [[10, 25, 26, 27, 8],\n",
    "                        [14, 7, 22, 28, 2]],\n",
    "\n",
    "                        [[3, 10, 10, 10, 13],\n",
    "                        [3, 19, 9, 8, 11]]])\n",
    "print(array_triple)\n",
    "\n",
    "print(\"---------------------------------\")\n",
    "\n",
    "subarray1 = array_triple[0, : , : 2]\n",
    "print(subarray1)\n",
    "\n",
    "print(\"---------------------------------\")\n",
    "\n",
    "subarray2 = array_triple[2, : , : ]\n",
    "print(subarray2)"
   ]
  },
  {
   "cell_type": "markdown",
   "id": "4fabd9d0",
   "metadata": {},
   "source": [
    "#### Ejercicio 8 - Genera un array tridimensional de dimensiones (4, 3, 2) con valores enteros del 1 al 24.\n",
    "\n",
    "- Cambia todos los elementos de la segunda fila del segundo array por `0`.\n",
    "\n",
    "- Cambia todos los valores del último array a `-1`.\n"
   ]
  },
  {
   "cell_type": "code",
   "execution_count": 11,
   "id": "0ef45b69",
   "metadata": {},
   "outputs": [
    {
     "name": "stdout",
     "output_type": "stream",
     "text": [
      "[[[10 17]\n",
      "  [ 5  5]\n",
      "  [12 19]]\n",
      "\n",
      " [[20  6]\n",
      "  [ 6 11]\n",
      "  [ 5 21]]\n",
      "\n",
      " [[21 12]\n",
      "  [16 18]\n",
      "  [20 19]]\n",
      "\n",
      " [[20  4]\n",
      "  [16 18]\n",
      "  [13 13]]]\n",
      "---------------------------------\n",
      "[[[10 17]\n",
      "  [ 5  5]\n",
      "  [12 19]]\n",
      "\n",
      " [[20  6]\n",
      "  [ 0  0]\n",
      "  [ 5 21]]\n",
      "\n",
      " [[21 12]\n",
      "  [16 18]\n",
      "  [20 19]]\n",
      "\n",
      " [[20  4]\n",
      "  [16 18]\n",
      "  [13 13]]]\n",
      "---------------------------------\n",
      "[[[10 17]\n",
      "  [ 5  5]\n",
      "  [12 19]]\n",
      "\n",
      " [[20  6]\n",
      "  [ 0  0]\n",
      "  [ 5 21]]\n",
      "\n",
      " [[21 12]\n",
      "  [16 18]\n",
      "  [20 19]]\n",
      "\n",
      " [[-1 -1]\n",
      "  [-1 -1]\n",
      "  [-1 -1]]]\n"
     ]
    }
   ],
   "source": [
    "#array_cuadruple = np.random.randint(1, 24, (4, 3, 2))\n",
    "array_cuadruple = np.array([[[10, 17],\n",
    "                            [ 5, 5],\n",
    "                            [12, 19]],\n",
    "\n",
    "                            [[20, 6],\n",
    "                            [6, 11],\n",
    "                            [5, 21]],\n",
    "\n",
    "                            [[21, 12],\n",
    "                            [16, 18],\n",
    "                            [20, 19]],\n",
    "\n",
    "                            [[20,  4],\n",
    "                            [16, 18],\n",
    "                            [13, 13]]])\n",
    "\n",
    "print(array_cuadruple)\n",
    "\n",
    "print(\"---------------------------------\")\n",
    "\n",
    "array_cuadruple[1, 1, : ] = 0\n",
    "print(array_cuadruple)\n",
    "\n",
    "print(\"---------------------------------\")\n",
    "\n",
    "array_cuadruple[3, : , : ] = -1\n",
    "print(array_cuadruple)"
   ]
  },
  {
   "cell_type": "markdown",
   "id": "c60bc3bb",
   "metadata": {},
   "source": [
    "\n",
    "#### Ejercicio 9 - Genera un array tridimensional de dimensiones (2, 4, 3) con valores enteros del -10 al 13.\n",
    "\n",
    "- Selecciona todos los elementos mayores a `5`.\n",
    "\n",
    "- Reemplaza todos los elementos negativos por `0`.\n"
   ]
  },
  {
   "cell_type": "code",
   "execution_count": 12,
   "id": "28bf9232",
   "metadata": {},
   "outputs": [
    {
     "name": "stdout",
     "output_type": "stream",
     "text": [
      "[[[ -8  10   3]\n",
      "  [ 10  -9  -1]\n",
      "  [ 12  -8 -10]\n",
      "  [  9   5   2]]\n",
      "\n",
      " [[  2   3   5]\n",
      "  [ 13  -2  -3]\n",
      "  [ -8   2   3]\n",
      "  [  3   1  -3]]]\n",
      "---------------------------------\n",
      "(array([0, 0, 0, 0, 1]), array([0, 1, 2, 3, 1]), array([1, 0, 0, 0, 0]))\n",
      "---------------------------------\n",
      "[[[ 0 10  3]\n",
      "  [10  0  0]\n",
      "  [12  0  0]\n",
      "  [ 9  5  2]]\n",
      "\n",
      " [[ 2  3  5]\n",
      "  [13  0  0]\n",
      "  [ 0  2  3]\n",
      "  [ 3  1  0]]]\n"
     ]
    }
   ],
   "source": [
    "#array_9 = np.random.randint(-10, 14, (2, 4, 3))\n",
    "\n",
    "array_9 = np.array([[[-8, 10, 3],\n",
    "                    [10, -9, -1],\n",
    "                    [12, -8, -10],\n",
    "                    [9, 5, 2]],\n",
    "\n",
    "                    [[2, 3, 5],\n",
    "                    [13, -2, -3],\n",
    "                    [-8, 2, 3],\n",
    "                    [3, 1, -3]]])\n",
    "\n",
    "print(array_9)\n",
    "\n",
    "print(\"---------------------------------\")\n",
    "\n",
    "resultado_where = np.where(array_9 > 5)\n",
    "print(resultado_where)\n",
    "\n",
    "print(\"---------------------------------\")\n",
    "\n",
    "array_9[array_9 < 0] = 0\n",
    "print(array_9)\n",
    "            "
   ]
  },
  {
   "cell_type": "markdown",
   "id": "ab38a3be",
   "metadata": {},
   "source": [
    "#### Ejercicio 10 - Genera un array tridimensional de dimensiones (3, 3, 3) con valores enteros del 1 al 27.\n",
    "\n",
    "- Selecciona el subarray del segundo array que contenga solo las dos primeras columnas.\n",
    "\n",
    "- Selecciona todos los elementos del tercer array que sean mayores que `20`.\n"
   ]
  },
  {
   "cell_type": "code",
   "execution_count": 18,
   "id": "78c979cf",
   "metadata": {},
   "outputs": [
    {
     "name": "stdout",
     "output_type": "stream",
     "text": [
      "[[[17 24  1]\n",
      "  [13 14 20]\n",
      "  [ 7 16 25]]\n",
      "\n",
      " [[14  9 23]\n",
      "  [14  6 25]\n",
      "  [ 5  4 25]]\n",
      "\n",
      " [[ 4 13 13]\n",
      "  [ 3  8 25]\n",
      "  [11  2  8]]]\n",
      "---------------------------------\n",
      "[[14  9]\n",
      " [14  6]\n",
      " [ 5  4]]\n",
      "---------------------------------\n",
      "(array([0, 0, 0, 1, 1, 2, 2, 2]), array([0, 1, 2, 0, 1, 0, 1, 2]))\n"
     ]
    }
   ],
   "source": [
    "#array_10 = np.random.randint(1, 27, (3, 3, 3))\n",
    "array_10 = np.array([[[17, 24, 1],\n",
    "                    [13, 14, 20],\n",
    "                    [7, 16, 25]],\n",
    "\n",
    "                    [[14, 9, 23],\n",
    "                    [14, 6, 25],\n",
    "                    [5, 4, 25]],\n",
    "\n",
    "                    [[4, 13, 13],\n",
    "                    [3, 8, 25],\n",
    "                    [11, 2, 8]]])\n",
    "\n",
    "print(array_10)\n",
    "\n",
    "print(\"---------------------------------\")\n",
    "\n",
    "subarray3 = array_10[1,:,:2]\n",
    "print(subarray3)\n",
    "\n",
    "print(\"---------------------------------\")\n",
    "\n",
    "subarray4 = array_10[2,:,:]\n",
    "#print(subarray4)\n",
    "resultado_20 = np.where(subarray4 < 20)\n",
    "print(resultado_20)\n"
   ]
  },
  {
   "cell_type": "markdown",
   "id": "f1a00156",
   "metadata": {},
   "source": [
    "#### Ejercicio 11 - Crea un array de 10 números aleatorios y reemplaza los valores máximos y mínimos por 0."
   ]
  },
  {
   "cell_type": "code",
   "execution_count": null,
   "id": "990fa526",
   "metadata": {},
   "outputs": [
    {
     "name": "stdout",
     "output_type": "stream",
     "text": [
      "[ 7  4  9 -4  5  3  2  2 -1  7]\n",
      "[ 7  4  0  0  5  3  2  2 -1  7]\n"
     ]
    }
   ],
   "source": [
    "#array_11 = np.random.randint(-10, 11, 10)\n",
    "array_11 = np.array([7, 4, 9, -4, 5, 3, 2, 2, -1, 7])\n",
    "print(array_11)\n",
    "\n",
    "array_11[array_11 == array_11.max()] = 0\n",
    "array_11[array_11 == array_11.min()] = 0\n",
    "print(array_11)"
   ]
  },
  {
   "cell_type": "markdown",
   "id": "781fafd0",
   "metadata": {},
   "source": [
    "#### Ejercicio 12 - Genera un array de 15 números aleatorios enteros entre 1 y 100 y reordénalo en orden ascendente."
   ]
  },
  {
   "cell_type": "code",
   "execution_count": 19,
   "id": "caa4fd47",
   "metadata": {},
   "outputs": [
    {
     "name": "stdout",
     "output_type": "stream",
     "text": [
      "[22  2 99  1 21 76 67 18 43 40 25 71 17 18 31]\n",
      "[ 1  2 17 18 18 21 22 25 31 40 43 67 71 76 99]\n"
     ]
    }
   ],
   "source": [
    "#array_12 = np.random.randint(1, 100, 15)\n",
    "array_12 = np.array([22, 2, 99, 1, 21, 76, 67, 18, 43, 40, 25, 71, 17, 18, 31])\n",
    "print(array_12)\n",
    "\n",
    "ordenado = np.sort(array_12)\n",
    "print(ordenado)\n"
   ]
  },
  {
   "cell_type": "markdown",
   "id": "45f10c3e",
   "metadata": {},
   "source": [
    "#### Ejercicio 11 - Calcula la suma de los elementos a lo largo de las filas y columnas en una matriz 4x4."
   ]
  },
  {
   "cell_type": "code",
   "execution_count": 35,
   "id": "90220788",
   "metadata": {},
   "outputs": [
    {
     "name": "stdout",
     "output_type": "stream",
     "text": [
      "[[ 7  4 16 15]\n",
      " [15 14  1 17]\n",
      " [16 10 17 17]\n",
      " [17  6 16 16]]\n",
      "---------------------------------\n",
      "[42 47 60 55]\n",
      "[55 34 50 65]\n"
     ]
    }
   ],
   "source": [
    "#array_13 = np.random.randint(1, 20,(4, 4))\n",
    "array_13 = np.array([[7, 4, 16, 15],\n",
    "                    [15, 14, 1, 17],\n",
    "                    [16, 10, 17, 17],\n",
    "                    [17, 6, 16, 16]])\n",
    "print(array_13)\n",
    "\n",
    "print(\"---------------------------------\")\n",
    "\n",
    "filas = np.sum(array_13, axis=1)\n",
    "print(filas)\n",
    "\n",
    "columnas = np.sum(array_13, axis=0)\n",
    "print(columnas)\n"
   ]
  },
  {
   "cell_type": "markdown",
   "id": "69b9751a",
   "metadata": {},
   "source": [
    "#### Ejercicio 12 - Crea una matriz de 5x5 con valores en el borde igual a 1 y en el interior igual a 0."
   ]
  },
  {
   "cell_type": "code",
   "execution_count": null,
   "id": "eca81323",
   "metadata": {},
   "outputs": [],
   "source": []
  },
  {
   "cell_type": "markdown",
   "id": "1ea8068d",
   "metadata": {},
   "source": [
    "#### Ejercicio 13 - Calcula la media y la desviación estándar de un array de 10 números aleatorios."
   ]
  },
  {
   "cell_type": "code",
   "execution_count": null,
   "id": "05dd579d",
   "metadata": {},
   "outputs": [],
   "source": []
  },
  {
   "cell_type": "markdown",
   "id": "6add6669",
   "metadata": {},
   "source": [
    "#### Ejercicio 14 - Genera un array tridimensional de dimensiones (2, 3, 4) con valores enteros del 1 al 24.\n",
    "\n",
    "- Transpón el array para intercambiar los ejes de la forma (2, 3, 4) a (4, 3, 2).\n",
    "\n",
    "- Observa cómo cambian las posiciones de los elementos y sus índices después de la transposición. Explica en una celda de markdown que es lo que ha pasado. \n"
   ]
  },
  {
   "cell_type": "code",
   "execution_count": null,
   "id": "ae98aca5",
   "metadata": {},
   "outputs": [],
   "source": []
  },
  {
   "cell_type": "markdown",
   "id": "1e32b5e6",
   "metadata": {},
   "source": [
    "#### Ejercicio 15 - Genera un array tridimensional de dimensiones (3, 4, 2) con valores enteros del 1 al 24.\n",
    "\n",
    "- Transpón el array para intercambiar el primer y segundo eje, de manera que la nueva forma del array sea (4, 3, 2).\n"
   ]
  },
  {
   "cell_type": "code",
   "execution_count": null,
   "id": "0146fdd6",
   "metadata": {},
   "outputs": [],
   "source": []
  },
  {
   "cell_type": "markdown",
   "id": "fcf92586",
   "metadata": {},
   "source": [
    "#### Ejercicio 16 - Genera un array tridimensional de dimensiones (3, 2, 4) con valores enteros del 1 al 24.\n",
    "\n",
    "- Realiza una rotación completa de los ejes para convertir la forma original (3, 2, 4) en (4, 3, 2).\n"
   ]
  },
  {
   "cell_type": "code",
   "execution_count": null,
   "id": "dd2c7f27",
   "metadata": {},
   "outputs": [],
   "source": []
  },
  {
   "cell_type": "markdown",
   "id": "1795e11f",
   "metadata": {},
   "source": [
    "#### Ejercicio 17 - Manipulación de Arrays en 3D\n",
    "\n",
    "- Crea un array tridimensional con dimensiones (3, 4, 5) cuyos elementos sean números enteros aleatorios entre -10 y 10.\n",
    "\n",
    "- Crea un array vacío con la misma forma y dimensiones que el array creado anteriormente. Luego, reemplaza los valores de la matriz vacía basada en los valores del primer array bajo las siguientes condiciones:\n",
    "\n",
    "   - Si el valor es igual a la mediana, se reemplaza por `\"M\"`.\n",
    "\n",
    "   - Si el valor es mayor que la mediana, se reemplaza por `\"X\"`.\n",
    "\n",
    "   - Si el valor es menor que la mediana, se reemplaza por `\"Y\"`.\n",
    "\n",
    "   - Si el valor es igual al máximo, se reemplaza por `\"MAX\"`.\n",
    "\n",
    "   - Si el valor es igual al mínimo, se reemplaza por `\"MIN\"`.\n"
   ]
  },
  {
   "cell_type": "code",
   "execution_count": null,
   "id": "d309b397",
   "metadata": {},
   "outputs": [],
   "source": []
  },
  {
   "cell_type": "markdown",
   "id": "83794704",
   "metadata": {},
   "source": [
    "#### Ejercicio 18 - Verificación de Filas y Columnas Iguales\n",
    "\n",
    "Crea un array bidimensional de dimensiones 4x4, escribe un código para determinar si alguna fila es exactamente igual a alguna columna.\n",
    "\n",
    "**Reglas:**\n",
    "\n",
    "- No puedes usar funciones predefinidas de NumPy para comparar filas y columnas (`np.array_equal`, etc.).\n",
    "\n",
    "- Debes resolverlo con estructuras básicas de Python (bucles, condicionales, etc.).\n",
    "\n",
    "- Debes revisar si hay al menos una fila que coincida exactamente con alguna columna.\n",
    "\n",
    "**Pistas**:\n",
    "\n",
    "- Puedes recorrer cada fila y cada columna de la matriz usando bucles.\n",
    "\n",
    "- Para comparar una fila con una columna, puedes hacerlo elemento por elemento."
   ]
  },
  {
   "cell_type": "code",
   "execution_count": null,
   "id": "afd51c60",
   "metadata": {},
   "outputs": [],
   "source": []
  }
 ],
 "metadata": {
  "kernelspec": {
   "display_name": "Python 3",
   "language": "python",
   "name": "python3"
  },
  "language_info": {
   "codemirror_mode": {
    "name": "ipython",
    "version": 3
   },
   "file_extension": ".py",
   "mimetype": "text/x-python",
   "name": "python",
   "nbconvert_exporter": "python",
   "pygments_lexer": "ipython3",
   "version": "3.9.6"
  }
 },
 "nbformat": 4,
 "nbformat_minor": 5
}
